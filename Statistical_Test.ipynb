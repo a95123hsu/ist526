{
  "nbformat": 4,
  "nbformat_minor": 0,
  "metadata": {
    "colab": {
      "provenance": [],
      "toc_visible": true,
      "include_colab_link": true
    },
    "kernelspec": {
      "name": "ir",
      "display_name": "R"
    },
    "language_info": {
      "name": "R"
    }
  },
  "cells": [
    {
      "cell_type": "markdown",
      "metadata": {
        "id": "view-in-github",
        "colab_type": "text"
      },
      "source": [
        "<a href=\"https://colab.research.google.com/github/a95123hsu/ist526/blob/main/Statistical_Test.ipynb\" target=\"_parent\"><img src=\"https://colab.research.google.com/assets/colab-badge.svg\" alt=\"Open In Colab\"/></a>"
      ]
    },
    {
      "cell_type": "markdown",
      "source": [
        "# Help wanted!"
      ],
      "metadata": {
        "id": "3jgz86Y3kKPT"
      }
    },
    {
      "cell_type": "code",
      "execution_count": 4,
      "metadata": {
        "id": "og3lpCx1B0pq"
      },
      "outputs": [],
      "source": [
        "help(solve)"
      ]
    },
    {
      "cell_type": "code",
      "source": [
        "?solve"
      ],
      "metadata": {
        "id": "GYtQuX4TDAWJ"
      },
      "execution_count": 5,
      "outputs": []
    },
    {
      "cell_type": "markdown",
      "source": [
        "Pair t-test Task 1"
      ],
      "metadata": {
        "id": "mm5qNxIbBBGT"
      }
    },
    {
      "cell_type": "code",
      "source": [
        "my_data <- read.csv(\"https://raw.githubusercontent.com/a95123hsu/ist526/main/Completion%20time_new%20-%20%E5%B7%A5%E4%BD%9C%E8%A1%A87%20(2).csv\")\n",
        "sd1 <- sd(my_data$T1C1)\n",
        "sd2 <- sd(my_data$T1C2)\n",
        "t.test(my_data$T1C2, my_data$T1C1, paired = TRUE, var.equal = TRUE, conf.level=0.95)\n",
        "print(sd1)\n",
        "print(sd2)"
      ],
      "metadata": {
        "colab": {
          "base_uri": "https://localhost:8080/",
          "height": 243
        },
        "id": "Y_J_yzA2vAZz",
        "outputId": "f1167bfa-0a54-418f-dbf7-ae35e5995629"
      },
      "execution_count": 51,
      "outputs": [
        {
          "output_type": "display_data",
          "data": {
            "text/plain": [
              "\n",
              "\tPaired t-test\n",
              "\n",
              "data:  my_data$T1C2 and my_data$T1C1\n",
              "t = 3.751, df = 5, p-value = 0.01328\n",
              "alternative hypothesis: true mean difference is not equal to 0\n",
              "95 percent confidence interval:\n",
              "  22.8966 122.6167\n",
              "sample estimates:\n",
              "mean difference \n",
              "       72.75667 \n"
            ]
          },
          "metadata": {}
        },
        {
          "output_type": "stream",
          "name": "stdout",
          "text": [
            "[1] 6.297992\n",
            "[1] 49.39225\n"
          ]
        }
      ]
    },
    {
      "cell_type": "markdown",
      "source": [
        "Pair t-test Task 2"
      ],
      "metadata": {
        "id": "NE6w71vGQ_iT"
      }
    },
    {
      "cell_type": "code",
      "source": [
        "my_data <- read.csv(\"https://raw.githubusercontent.com/a95123hsu/ist526/main/Completion%20time_new%20-%20%E5%B7%A5%E4%BD%9C%E8%A1%A87%20(2).csv\")\n",
        "sd1 <- sd(my_data$T2C1)\n",
        "sd2 <- sd(my_data$T2C2, na.rm = TRUE)\n",
        "t.test(my_data$T2C2, my_data$T2C1, paired = TRUE, var.equal = TRUE, conf.level=0.95)\n",
        "print(sd1)\n",
        "print(sd2)"
      ],
      "metadata": {
        "colab": {
          "base_uri": "https://localhost:8080/",
          "height": 243
        },
        "id": "YpsNPgDLQaZm",
        "outputId": "b9239250-f578-4a90-8b35-1cf26264ba0f"
      },
      "execution_count": 53,
      "outputs": [
        {
          "output_type": "display_data",
          "data": {
            "text/plain": [
              "\n",
              "\tPaired t-test\n",
              "\n",
              "data:  my_data$T2C2 and my_data$T2C1\n",
              "t = 0.63381, df = 3, p-value = 0.5712\n",
              "alternative hypothesis: true mean difference is not equal to 0\n",
              "95 percent confidence interval:\n",
              " -155.3964  232.6864\n",
              "sample estimates:\n",
              "mean difference \n",
              "         38.645 \n"
            ]
          },
          "metadata": {}
        },
        {
          "output_type": "stream",
          "name": "stdout",
          "text": [
            "[1] 48.64991\n",
            "[1] 81.88721\n"
          ]
        }
      ]
    }
  ]
}