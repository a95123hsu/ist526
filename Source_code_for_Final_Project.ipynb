{
  "nbformat": 4,
  "nbformat_minor": 0,
  "metadata": {
    "colab": {
      "provenance": [],
      "include_colab_link": true
    },
    "kernelspec": {
      "name": "ir",
      "display_name": "R"
    },
    "language_info": {
      "name": "R"
    }
  },
  "cells": [
    {
      "cell_type": "markdown",
      "metadata": {
        "id": "view-in-github",
        "colab_type": "text"
      },
      "source": [
        "<a href=\"https://colab.research.google.com/github/a95123hsu/ist526/blob/main/Source_code_for_Final_Project.ipynb\" target=\"_parent\"><img src=\"https://colab.research.google.com/assets/colab-badge.svg\" alt=\"Open In Colab\"/></a>"
      ]
    },
    {
      "cell_type": "markdown",
      "source": [
        "Vega-lite for Box Plot Task 1"
      ],
      "metadata": {
        "id": "4LULCzq0dKyO"
      }
    },
    {
      "cell_type": "code",
      "source": [
        "{\n",
        "  \"data\": {\"values\": [\n",
        "            {\"Tasks and Conditions\": \"Task 1 Zoom-in/out\", \"Completion time (Sec)\": 19.18},\n",
        "            {\"Tasks and Conditions\": \"Task 1 Zoom-in/out\", \"Completion time (Sec)\": 7.46},\n",
        "            {\"Tasks and Conditions\": \"Task 1 Zoom-in/out\", \"Completion time (Sec)\": 10.69},\n",
        "            {\"Tasks and Conditions\": \"Task 1 Zoom-in/out\", \"Completion time (Sec)\": 18.93},\n",
        "            {\"Tasks and Conditions\": \"Task 1 Zoom-in/out\", \"Completion time (Sec)\": 20.53},\n",
        "            {\"Tasks and Conditions\": \"Task 1 Zoom-in/out\", \"Completion time (Sec)\": 6.87},\n",
        "            {\"Tasks and Conditions\": \"Task 1 Overview+detail\", \"Completion time (Sec)\": 164.04},\n",
        "            {\"Tasks and Conditions\": \"Task 1 Overview+detail\", \"Completion time (Sec)\": 47.71},\n",
        "            {\"Tasks and Conditions\": \"Task 1 Overview+detail\", \"Completion time (Sec)\": 75.86},\n",
        "            {\"Tasks and Conditions\": \"Task 1 Overview+detail\", \"Completion time (Sec)\": 25.86},\n",
        "            {\"Tasks and Conditions\": \"Task 1 Overview+detail\", \"Completion time (Sec)\": 116.05},\n",
        "            {\"Tasks and Conditions\": \"Task 1 Overview+detail\", \"Completion time (Sec)\": 90.68},\n",
        "          ]},\n",
        "  \"width\":500,\n",
        "  \"height\":300,\n",
        "\"mark\": {\n",
        "    \"type\": \"boxplot\"\n",
        "  },\n",
        "  \"encoding\": {\n",
        "    \"y\": {\"field\": \"Tasks and Conditions\", \"type\": \"nominal\"},\n",
        "    \"x\": {\n",
        "      \"field\": \"Completion time (Sec)\",\n",
        "      \"type\": \"quantitative\",\n",
        "      \"scale\": {\"zero\": false}\n",
        "    }\n",
        "  }\n",
        "}\n"
      ],
      "metadata": {
        "id": "iiInwg5ydN8u"
      },
      "execution_count": null,
      "outputs": []
    },
    {
      "cell_type": "markdown",
      "source": [
        "Vega-lite for Box Plot Task 2"
      ],
      "metadata": {
        "id": "gnJ8zP-7dApP"
      }
    },
    {
      "cell_type": "code",
      "source": [
        "{\n",
        "  \"data\": {\"values\": [\n",
        "            {\"Tasks and Conditions\": \"Task 2 Zoom-in/out\", \"Completion time (Sec)\": 33.74},\n",
        "            {\"Tasks and Conditions\": \"Task 2 Zoom-in/out\", \"Completion time (Sec)\": 8.28},\n",
        "            {\"Tasks and Conditions\": \"Task 2 Zoom-in/out\", \"Completion time (Sec)\": 4.57},\n",
        "            {\"Tasks and Conditions\": \"Task 2 Zoom-in/out\", \"Completion time (Sec)\": 131.42},\n",
        "            {\"Tasks and Conditions\": \"Task 2 Zoom-in/out\", \"Completion time (Sec)\": 11.7},\n",
        "            {\"Tasks and Conditions\": \"Task 2 Zoom-in/out\", \"Completion time (Sec)\": 16.14},\n",
        "            {\"Tasks and Conditions\": \"Task 2 Overview+detail\", \"Completion time (Sec)\": 161.98},\n",
        "            {\"Tasks and Conditions\": \"Task 2 Overview+detail\", \"Completion time (Sec)\": \"NaN\"},\n",
        "            {\"Tasks and Conditions\": \"Task 2 Overview+detail\", \"Completion time (Sec)\": 20.16},\n",
        "            {\"Tasks and Conditions\": \"Task 2 Overview+detail\", \"Completion time (Sec)\": 6.72},\n",
        "            {\"Tasks and Conditions\": \"Task 2 Overview+detail\", \"Completion time (Sec)\": 147.15},\n",
        "            {\"Tasks and Conditions\": \"Task 2 Overview+detail\", \"Completion time (Sec)\": \"NaN\"},\n",
        "          ]},\n",
        "  \"width\":500,\n",
        "  \"height\":300,\n",
        "\"mark\": {\n",
        "    \"type\": \"boxplot\"\n",
        "  },\n",
        "  \"encoding\": {\n",
        "    \"y\": {\"field\": \"Tasks and Conditions\", \"type\": \"nominal\"},\n",
        "    \"x\": {\n",
        "      \"field\": \"Completion time (Sec)\",\n",
        "      \"type\": \"quantitative\",\n",
        "      \"scale\": {\"zero\": false}\n",
        "    }\n",
        "  }\n",
        "}"
      ],
      "metadata": {
        "id": "Z0E09Vi8dFHa"
      },
      "execution_count": null,
      "outputs": []
    },
    {
      "cell_type": "markdown",
      "source": [
        "Pair t-test Task 1"
      ],
      "metadata": {
        "id": "mm5qNxIbBBGT"
      }
    },
    {
      "cell_type": "code",
      "source": [
        "my_data <- read.csv(\"https://raw.githubusercontent.com/a95123hsu/ist526/main/Completion%20time_new%20-%20%E5%B7%A5%E4%BD%9C%E8%A1%A87%20(2).csv\")\n",
        "sd1 <- sd(my_data$T1C1)\n",
        "sd2 <- sd(my_data$T1C2)\n",
        "t.test(my_data$T1C2, my_data$T1C1, paired = TRUE, var.equal = TRUE, conf.level=0.95)\n",
        "print(sd1)\n",
        "print(sd2)"
      ],
      "metadata": {
        "colab": {
          "base_uri": "https://localhost:8080/",
          "height": 243
        },
        "id": "Y_J_yzA2vAZz",
        "outputId": "f1167bfa-0a54-418f-dbf7-ae35e5995629"
      },
      "execution_count": 51,
      "outputs": [
        {
          "output_type": "display_data",
          "data": {
            "text/plain": [
              "\n",
              "\tPaired t-test\n",
              "\n",
              "data:  my_data$T1C2 and my_data$T1C1\n",
              "t = 3.751, df = 5, p-value = 0.01328\n",
              "alternative hypothesis: true mean difference is not equal to 0\n",
              "95 percent confidence interval:\n",
              "  22.8966 122.6167\n",
              "sample estimates:\n",
              "mean difference \n",
              "       72.75667 \n"
            ]
          },
          "metadata": {}
        },
        {
          "output_type": "stream",
          "name": "stdout",
          "text": [
            "[1] 6.297992\n",
            "[1] 49.39225\n"
          ]
        }
      ]
    },
    {
      "cell_type": "markdown",
      "source": [
        "Pair t-test Task 2"
      ],
      "metadata": {
        "id": "NE6w71vGQ_iT"
      }
    },
    {
      "cell_type": "code",
      "source": [
        "my_data <- read.csv(\"https://raw.githubusercontent.com/a95123hsu/ist526/main/Completion%20time_new%20-%20%E5%B7%A5%E4%BD%9C%E8%A1%A87%20(2).csv\")\n",
        "sd1 <- sd(my_data$T2C1)\n",
        "sd2 <- sd(my_data$T2C2, na.rm = TRUE)\n",
        "t.test(my_data$T2C2, my_data$T2C1, paired = TRUE, var.equal = TRUE, conf.level=0.95)\n",
        "print(sd1)\n",
        "print(sd2)"
      ],
      "metadata": {
        "colab": {
          "base_uri": "https://localhost:8080/",
          "height": 243
        },
        "id": "YpsNPgDLQaZm",
        "outputId": "b9239250-f578-4a90-8b35-1cf26264ba0f"
      },
      "execution_count": 53,
      "outputs": [
        {
          "output_type": "display_data",
          "data": {
            "text/plain": [
              "\n",
              "\tPaired t-test\n",
              "\n",
              "data:  my_data$T2C2 and my_data$T2C1\n",
              "t = 0.63381, df = 3, p-value = 0.5712\n",
              "alternative hypothesis: true mean difference is not equal to 0\n",
              "95 percent confidence interval:\n",
              " -155.3964  232.6864\n",
              "sample estimates:\n",
              "mean difference \n",
              "         38.645 \n"
            ]
          },
          "metadata": {}
        },
        {
          "output_type": "stream",
          "name": "stdout",
          "text": [
            "[1] 48.64991\n",
            "[1] 81.88721\n"
          ]
        }
      ]
    }
  ]
}